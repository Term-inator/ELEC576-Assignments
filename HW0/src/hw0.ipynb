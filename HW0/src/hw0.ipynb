{
 "cells": [
  {
   "cell_type": "markdown",
   "id": "4a12ea21a95b42f7",
   "metadata": {},
   "source": [
    "### Task 1"
   ]
  },
  {
   "cell_type": "markdown",
   "id": "df48ba1fbbab3d7",
   "metadata": {},
   "source": [
    "![](../conda.png)"
   ]
  },
  {
   "cell_type": "markdown",
   "id": "72866d9405ccd202",
   "metadata": {},
   "source": [
    "### Task 2"
   ]
  },
  {
   "cell_type": "code",
   "execution_count": 1,
   "id": "2829005fb015f601",
   "metadata": {
    "ExecuteTime": {
     "end_time": "2023-09-09T04:31:33.916738300Z",
     "start_time": "2023-09-09T04:31:33.630640500Z"
    }
   },
   "outputs": [],
   "source": [
    "import numpy as np\n",
    "import scipy.linalg as linalg"
   ]
  },
  {
   "cell_type": "code",
   "execution_count": null,
   "id": "e1657a1c29f511d1",
   "metadata": {
    "is_executing": true
   },
   "outputs": [],
   "source": [
    "m, n = 3, 4\n",
    "a = np.zeros((m, n))\n",
    "\n",
    "for i in range(m):\n",
    "    for j in range(n):\n",
    "        a[i, j] = i * n + j + 1\n",
    "        \n",
    "\n",
    "print(f'np.ndim(a) = {np.ndim(a)}, a.ndim = {a.ndim}')\n",
    "print(f'np.size = {np.size(a)}, a.size = {a.size}')\n",
    "print(f'np.shape = {np.shape(a)}, a.shape = {a.shape}')\n",
    "print(f'a.shape[n-1] = {a.shape[0]}')\n",
    "print(f'np.array([[1., 2., 3.], [4., 5., 6.]]) = {np.array([[1., 2., 3.], [4., 5., 6.]])}')\n",
    "print(f'np.block([[1, 2], [3, 4]]) = {np.block([[1, 2], [3, 4]])}')\n",
    "print(f'a[-1] = {a[-1]}')\n",
    "print(f'a[1, 1] = {a[1, 1]}')\n",
    "print(f'a[1] = {a[1]}, a[1, :] = {a[1, :]}')\n",
    "print(f'a[0:4] = {a[0:4]}, a[:4] = {a[:4]},a[0:4, :] = {a[0:4, :]}')\n",
    "print(f'a[-4:] = {a[-4:]}')\n",
    "print(f'a[0:3, 3:4] = {a[0:3, 3:4]}')\n",
    "print(f'a[np.ix_([1, 2], [0, 2])] = {a[np.ix_([1, 2], [0, 2])]}')\n",
    "print(f'a[2:5:2,:] = {a[2:4:2,:]}')\n",
    "print(f'a[::2,:] = {a[::2,:]}')\n",
    "print(f'a[::-1,:] = {a[::-1,:]}')\n",
    "print(f'a[np.r_[:len(a),0]] = {a[np.r_[:len(a),0]]}')\n",
    "print(f'a.transpose() = {a.transpose()}, a.T = {a.T}')\n",
    "print(f'a.conj().transpose() = {a.conj().transpose()}, a.conj().T = {a.conj().T}')\n",
    "print(f'a @ b = {a.T @ a}')\n",
    "print(f'a * a = {a * a}')\n",
    "print(f'a/b = {a/a}')\n",
    "print(f'a**2 = {a**2}')\n",
    "print(f'(a > {m*n/2}) = {a > m*n/2}')\n",
    "print(f'np.nonzero(a > {m*n/2}) = {np.nonzero(a > m*n/2)}')\n",
    "print(f'a[:,np.nonzero(v > {m*n/2})[0]] = {a[:,np.nonzero(a[:,0] > m*n/2)[0]]}')\n",
    "print(f'a[:, v.T > {m*n/2}] = {a[:, a[m-1,:].T > m*n/2]}')\n",
    "print(f'a[a < {m*n/2}]=0 = {a[a < m*n/2]}')\n",
    "print(f'a * (a > {m*n/2}) = {a * (a > m*n/2)}')\n",
    "a[:]=3\n",
    "print(f'a[:] = 3 = {a}')"
   ]
  },
  {
   "cell_type": "code",
   "execution_count": null,
   "id": "d7c64a130d111c4",
   "metadata": {
    "is_executing": true
   },
   "outputs": [],
   "source": [
    "m, n = 3, 4\n",
    "x = np.zeros((m, n))\n",
    "\n",
    "for i in range(m):\n",
    "    for j in range(n):\n",
    "        x[i, j] = i * n + j + 1\n",
    "        \n",
    "print(f'y = x.copy() = {x.copy()}')\n",
    "print(f'y = x[1,:].copy() = {x[1,:].copy()}')\n",
    "print(f'y = x.flatten() = {x.flatten()}')\n",
    "print(f'np.arange(1., 11.) = {np.arange(1., 11.)}, np.r_[1.:11.] = {np.r_[1:11.]}, np.r_[1:10:10j] = {np.r_[1:10:10j]}')\n",
    "print(f'np.arange(10.) = {np.arange(10.)}, np.r_[:10.] = {np.r_[:10.]}, np.r_[:9:10j] = {np.r_[:10:10j]}')\n",
    "print(f'np.arange(1.,11.)[:, np.newaxis] = {np.arange(1.,11.)[:, np.newaxis]}')\n",
    "print(f'np.zeros((3, 4)) = {np.zeros((3, 4))}')\n",
    "print(f'np.zeros((3, 4, 5)) = {np.zeros((3, 4, 5))}')\n",
    "print(f'np.ones((3, 4)) = {np.ones((3, 4))}')\n",
    "print(f'np.eye(3) = {np.eye(3)}')\n",
    "print(f'np.diag(x) = {np.diag(x)}')\n",
    "print(f'np.diag(v, 0) = {np.diag(x, 0)}')\n",
    "print(f'np.random.rand(3, 4) = {np.random.rand(3, 4)}')\n",
    "print(f'np.linspace(1,3,4) = {np.linspace(1,3,4)}')\n",
    "print(f'np.mgrid[0:9.,0:6.] = {np.mgrid[0:9.,0:6.]}, np.meshgrid(r_[0:9.],r_[0:6.]) = {np.meshgrid(np.r_[0:9.],np.r_[0:6.])}')\n",
    "print(f'ogrid[0:9.,0:6.] = {np.ogrid[0:9.,0:6.]}, np.ix_(np.r_[0:9.],np.r_[0:6.]) = {np.ix_(np.r_[0:9.],np.r_[0:6.])}')\n",
    "print(f'np.meshgrid([1,2,4],[2,4,5]) = {np.meshgrid([1,2,4],[2,4,5])}')\n",
    "print(f'np.ix_([1,2,4],[2,4,5]) = {np.ix_([1,2,4],[2,4,5])}')\n",
    "print(f'np.tile(a, (m, n)) = {np.tile(x, (m, n))}')\n",
    "print(f'np.concatenate((a,b),1) = {np.concatenate((x,x),1)}, np.hstack((a,b)) = {np.hstack((x,x))}, np.column_stack((a,b)) = {np.column_stack((x,x))}, np.c_[a,b] = {np.c_[x,x]}, np.c_[a,b] = {np.c_[x,x]}')\n",
    "print(f'np.concatenate((a,b)) = {np.concatenate((x,x))}, np.vstack((a,b)) = {np.vstack((x,x))}, np.row_stack((a,b))np.r_[a,b] = {np.row_stack((x,x))}, np.r_[a,b] = {np.r_[x,x]}')\n",
    "print(f'a.max() = {x.max()}, np.nanmax(a) = {np.nanmax(x)}')\n",
    "print(f'a.max(0) = {x.max(0)}')\n",
    "print(f'a.max(1) = {x.max(1)}')\n",
    "print(f'np.maximum(a, b) = {np.maximum(x, x * 2)}')\n",
    "\n",
    "v = np.arange(1, 10)\n",
    "print(f'np.sqrt(v @ v) = {np.sqrt(v @ v)}, np.linalg.norm(v) = {np.linalg.norm(v)}')\n",
    "print(f'logical_and(a,b) = {np.logical_and(np.ones((3, 4)), np.zeros((3, 4)))}')\n",
    "print(f'logical_or(a,b) = {np.logical_or(np.ones((3, 4)), np.zeros((3, 4)))}')\n",
    "print(f'a & b = {np.ones((3, 4), dtype=bool) & np.zeros((3, 4), dtype=bool)}')\n",
    "print(f'a | b = {np.ones((3, 4), dtype=bool) | np.zeros((3, 4), dtype=bool)}')\n",
    "print(f'linalg.inv(a) = {np.linalg.inv(x[:3,:3])}')\n",
    "print(f'linalg.pinv(a) = {np.linalg.pinv(x[:3,:3])}')\n",
    "print(f'np.linalg.matrix_rank(a) = {np.linalg.matrix_rank(x[:3,:3])}')\n",
    "print(f'linalg.solve(a, b) = {np.linalg.solve(x[:3,:3], x[:3,3])}, linalg.lstsq(a, b) = {np.linalg.lstsq(x[:3,:3], x[:3,3], rcond=None)}')\n",
    "U, S, Vh = np.linalg.svd(x[:3,:3])\n",
    "print(f'U, S, Vh = linalg.svd(a); V = Vh.T. U, S, V = {U, S, Vh}')\n",
    "print(f'D,V = linalg.eig(a) = {np.linalg.eig(x[:3,:3])}')\n",
    "print(f'Q,R = linalg.qr(a) = {np.linalg.qr(x[:3,:3])}')\n",
    "print(f'P,L,U = linalg.lu(a) = {linalg.lu(x[:3,:3])}')\n",
    "print(f'np.fft.fft(a) = {np.fft.fft(x[:3,:3])}')\n",
    "print(f'np.fft.ifft(a) = {np.fft.ifft(x[:3,:3])}')\n",
    "print(f'np.sort(a) = {np.sort(x[:3,:3])}, a.sort(axis=0) = {x[:3,:3].sort(axis=0)}')\n",
    "print(f'np.sort(a, axis=1) = {np.sort(x[:3,:3], axis=1)}, a.sort(axis=1) = {x[:3,:3].sort(axis=1)}')\n",
    "I = np.argsort(x[:, 0]); y = x[I,:]\n",
    "print(f'I = np.argsort(a[:, 0]); b = a[I,:] = {y}')\n",
    "print(f'x = linalg.lstsq(Z, y) = {linalg.lstsq(x[:3,:3], x[:3,3])}')\n",
    "print(f'np.unique(a) = {np.unique(x[:3,:3])}')\n",
    "print(f'a.squeeze() = {x[:3,:3].squeeze()}')"
   ]
  },
  {
   "cell_type": "markdown",
   "id": "e589fb49e867eeeb",
   "metadata": {},
   "source": [
    "### Task 3"
   ]
  },
  {
   "cell_type": "code",
   "execution_count": null,
   "id": "c9ef4947e48f1cd1",
   "metadata": {
    "is_executing": true
   },
   "outputs": [],
   "source": [
    "import matplotlib.pyplot as plt\n",
    "plt.plot([1,2,3,4], [1,2,7,14])\n",
    "plt.axis([0, 6, 0, 20])\n",
    "plt.show()"
   ]
  },
  {
   "cell_type": "markdown",
   "id": "e89030ae15143b7",
   "metadata": {},
   "source": [
    "### Task 4"
   ]
  },
  {
   "cell_type": "code",
   "execution_count": null,
   "id": "300724ac71fd8234",
   "metadata": {
    "is_executing": true
   },
   "outputs": [],
   "source": [
    "x = np.linspace(0, 2 * np.pi, 100)\n",
    "y = np.sin(x)\n",
    "plt.plot(x, y)\n",
    "plt.show()"
   ]
  },
  {
   "cell_type": "markdown",
   "id": "468e42666d95a292",
   "metadata": {},
   "source": [
    "### Task 5\n",
    "\n",
    "https://github.com/Term-inator\n",
    "\n",
    "### Task 6\n",
    "\n",
    "https://github.com/Term-inator/ELEC576-Assignments\n"
   ]
  }
 ],
 "metadata": {
  "kernelspec": {
   "display_name": "Python 3 (ipykernel)",
   "language": "python",
   "name": "python3"
  },
  "language_info": {
   "codemirror_mode": {
    "name": "ipython",
    "version": 3
   },
   "file_extension": ".py",
   "mimetype": "text/x-python",
   "name": "python",
   "nbconvert_exporter": "python",
   "pygments_lexer": "ipython3",
   "version": "3.9.16"
  }
 },
 "nbformat": 4,
 "nbformat_minor": 5
}
